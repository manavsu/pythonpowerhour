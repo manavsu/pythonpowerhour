{
 "cells": [
  {
   "cell_type": "markdown",
   "metadata": {},
   "source": [
    "# Flask\n",
    "Flask is a small and lightweight Python web framework that provides useful tools and features that make creating web applications in Python easier."
   ]
  },
  {
   "cell_type": "markdown",
   "metadata": {
    "slideshow": {
     "slide_type": "subslide"
    }
   },
   "source": [
    "## Networking\n",
    "\n",
    "### IP Address\n",
    "An IP address is a unique identifier assigned to each device connected to a network. It is used to identify the device and route data to it.\n",
    "\n",
    "Using powershell we can find our IP address and subnet mask with `ipconfig`.\n",
    "The output will look something like this:\n",
    "```bash\n",
    "Wireless LAN adapter Wi-Fi:\n",
    "\n",
    "   Connection-specific DNS Suffix  . :\n",
    "   Link-local IPv6 Address . . . . . : fe80::cbfb:ba8e:79fa:791a%22\n",
    "   IPv4 Address. . . . . . . . . . . : 192.168.70.170\n",
    "   Subnet Mask . . . . . . . . . . . : 255.255.255.0\n",
    "   Default Gateway . . . . . . . . . : 192.168.70.1\n",
    "```\n",
    "### Subnet Mask\n",
    "The subnet mask is used to determine which part of an IP address is the network address and which part is the host address.\n",
    "From above we know the subnet mask is `255.255.255.0`, the first 3 octets of the IPv4 address are the network address and the last octet is the host address. In other words other devices on the network will have the same first 3 octets, and the last octet will be different.\n",
    "\n",
    "### Default Gateway\n",
    "The default gateway is the IP address of the router that connects your device to the internet. It is used to route data to devices outside of your local network.\n",
    "\n",
    "### Common IP Addresses\n",
    "#### 127.0.0.1\n",
    "This is the loopback address, it can be used to test network connections on your local machine or communicate between services running on your local machine. Commonly used for testing web applications. Services hosted on this address are only accessible from the local machine.\n",
    "\n",
    "#### 0.0.0.0\n",
    "This is a non-routable meta-address used to designate an invalid, unknown, or non-applicable target. It is often used to specify \"any\" address in socket programming. This allows a server to listen on all available network interfaces. This allows your service to be accessible to all devices on the network.\n",
    "\n",
    "#### How to expose my service to the internet?\n",
    "Look up port forwarding, DNS, and dynamic DNS services.\n",
    "\n",
    "### Ports\n",
    "Ports are used to identify different services running on the same device. They allow multiple services to run on the same device without interfering with each other. Ports are identified by a number between 0 and 65535. Ports 0-1023 are reserved for well-known services, and ports 1024-49151 are registered ports. Ports 49152-65535 are dynamic or private ports.\n",
    "\n",
    "An IP address and port number together are known as a socket (127.0.0.1:502). Sockets are used to establish connections between devices on a network.\n",
    "\n",
    "[Port Assignments](https://en.wikipedia.org/wiki/List_of_TCP_and_UDP_port_numbers)\n",
    "\n",
    "Some common ports are:\n",
    "- 80: HTTP\n",
    "- 443: HTTPS\n",
    "- 502: Modbus"
   ]
  },
  {
   "cell_type": "markdown",
   "metadata": {},
   "source": [
    "# Getting Started with Flask\n",
    "\n",
    "Create a venv and select then install flask\n",
    "\n",
    "```bash\n",
    "pip install flask\n",
    "```"
   ]
  },
  {
   "cell_type": "code",
   "execution_count": 8,
   "metadata": {},
   "outputs": [
    {
     "name": "stdout",
     "output_type": "stream",
     "text": [
      " * Serving Flask app '__main__'\n",
      " * Debug mode: off\n"
     ]
    },
    {
     "name": "stderr",
     "output_type": "stream",
     "text": [
      "WARNING: This is a development server. Do not use it in a production deployment. Use a production WSGI server instead.\n",
      " * Running on all addresses (0.0.0.0)\n",
      " * Running on http://127.0.0.1:5000\n",
      " * Running on http://192.168.70.170:5000\n",
      "Press CTRL+C to quit\n",
      "127.0.0.1 - - [13/Jun/2024 13:59:06] \"GET / HTTP/1.1\" 200 -\n",
      "127.0.0.1 - - [13/Jun/2024 14:02:15] \"GET / HTTP/1.1\" 200 -\n",
      "127.0.0.1 - - [13/Jun/2024 14:02:20] \"GET / HTTP/1.1\" 200 -\n"
     ]
    }
   ],
   "source": [
    "from flask import Flask\n",
    "app = Flask(__name__)\n",
    "\n",
    "# This is the default route, it returns a simple string, i.e. the home page / index page\n",
    "@app.route('/')\n",
    "def dragon():\n",
    "    return \"\"\"\n",
    "    <pre>\n",
    "    hi from ben \n",
    "                ^    ^\n",
    "               / \\\\  //\\\\\n",
    " |\\\\___/|      /   \\\\//  .\\\\\n",
    " /O  O  \\\\__  /    //  | \\\\ \\\\\n",
    "/     /  \\\\/_/    //   |  \\\\  \\\\\n",
    "@___@'    \\\\/_   //    |   \\\\   \\\\ \n",
    "   |       \\\\/_ //     |    \\\\    \\\\ \n",
    "   |        \\\\///      |     \\\\     \\\\ \n",
    "  _|_ /   )  //       |      \\\\     _\\\\\n",
    " '/,_ _ _/  ( ; -.    |    _ _\\\\.-~        .-~~~^-.\n",
    " ,-{        _      `- .|.-~-.           .~         `.\n",
    "  '/\\\\      /                 ~-. _ .-~      .-~^- .  \\\\\n",
    "     `.   {            }                   /      \\\\  \\\\\n",
    "   .----~- .\\\\        \\\\-'                 .~         \\\\  `. \\\\^-.\n",
    "  ///.----..>    c   \\\\             _ -~             `.  ^-`   ^-_\n",
    "    ///-._ _ _ _ _ _ _}^ - - - - ~                     ~--,   .-~\n",
    "                                                          /.-'\n",
    "    </pre>\n",
    "    \"\"\"\n",
    "\n",
    "@app.route(\"/shark\")\n",
    "def shark():\n",
    "    return \"\"\"\n",
    "    <pre>\n",
    "                    (`.              \n",
    "                 \\\\ `.           \n",
    "                  )  `._..---._\n",
    "\\\\`.       __...---`         o  )\n",
    " \\\\ `._,--'           ,    ___,'\n",
    "  ) ,-._          \\\\  )   _,-' \n",
    " /,'    ``--.._____\\\\/--''  \n",
    "    </pre>\n",
    "\"\"\"\n",
    "\n",
    "@app.route('/banana')\n",
    "def banana():\n",
    "    return \"Banana!\"\n",
    "\n",
    "if __name__ == '__main__':\n",
    "    app.run(host='0.0.0.0', port=5000)"
   ]
  },
  {
   "cell_type": "markdown",
   "metadata": {},
   "source": [
    "### curl\n",
    "`curl` is a command-line tool used to transfer data to or from a server. It is commonly used to test web services.\n",
    "try running `curl http://localhost:5000` in your terminal while your webserver is running.\n",
    "\n",
    "Make something cool or not that cool with flask and expose it to the network so others can see it. If you want use chatgpt for help and inspiration. Let me know if you need help with anything."
   ]
  }
 ],
 "metadata": {
  "kernelspec": {
   "display_name": "Python 3",
   "language": "python",
   "name": "python3"
  },
  "language_info": {
   "codemirror_mode": {
    "name": "ipython",
    "version": 3
   },
   "file_extension": ".py",
   "mimetype": "text/x-python",
   "name": "python",
   "nbconvert_exporter": "python",
   "pygments_lexer": "ipython3",
   "version": "3.12.3"
  }
 },
 "nbformat": 4,
 "nbformat_minor": 2
}
