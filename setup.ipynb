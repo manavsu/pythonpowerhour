{
 "cells": [
  {
   "cell_type": "markdown",
   "metadata": {},
   "source": [
    "# Setup\n",
    "\n",
    "## Download VS Code\n",
    "https://code.visualstudio.com/\n",
    "\n",
    "## Download python\n",
    "https://www.python.org/downloads/windows/\n",
    "\n",
    "## Extensions\n",
    "\n",
    "Python Environment Manager\n",
    "\n",
    "Python (ms-python.python)\n",
    "\n",
    "Mypy (ms-python.mypy-type-checker)\n",
    "\n",
    "IntelliCode (VisualStudioExptTeam.vscodeintellicode)\n",
    "\n",
    "Prettier (esbenp.prettier-vscode)\n",
    "\n",
    "Python Debugger (ms-python.debugpy)"
   ]
  }
 ],
 "metadata": {
  "language_info": {
   "name": "python"
  }
 },
 "nbformat": 4,
 "nbformat_minor": 2
}
